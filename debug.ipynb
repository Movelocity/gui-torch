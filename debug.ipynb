{
 "cells": [
  {
   "cell_type": "code",
   "execution_count": 2,
   "id": "f044592a-d1a3-4dc9-864b-bb2105d59186",
   "metadata": {},
   "outputs": [],
   "source": [
    "import torch\n",
    "from models.mobilenet_v2 import MobileNetV2\n",
    "\n",
    "model = MobileNetV2(67)\n",
    "model.load_state_dict(torch.load(\"models/mobilenet_v2.pth\", map_location='cpu'))\n",
    "model.eval();"
   ]
  },
  {
   "cell_type": "code",
   "execution_count": 3,
   "id": "0624910d-a21e-4f75-9605-2b0a87bcdbd2",
   "metadata": {},
   "outputs": [],
   "source": [
    "from utils import detect_dataset\n",
    "import random\n",
    "import glob\n",
    "from PIL import Image\n",
    "import torchvision.transforms as transforms\n",
    "\n",
    "tfs = transforms.Compose([\n",
    "    transforms.Resize((256, 256)), \n",
    "    transforms.ToTensor()\n",
    "])\n",
    "\n",
    "valid_folders, valid_files = detect_dataset(\"F:/资源/Images\", ['.jpg', '.png'])\n",
    "valid_folders = sorted(valid_folders)"
   ]
  },
  {
   "cell_type": "code",
   "execution_count": 4,
   "id": "08594db1-0b94-4a3c-a334-9dd821a12462",
   "metadata": {},
   "outputs": [
    {
     "data": {
      "text/plain": [
       "torch.Size([3, 256, 256])"
      ]
     },
     "execution_count": 4,
     "metadata": {},
     "output_type": "execute_result"
    }
   ],
   "source": [
    "img_folder = \"/\".join([\"F:/资源/Images\", random.choice(valid_folders)])\n",
    "files = []\n",
    "for extension in ['.jpg', '.png']:\n",
    "    files.extend(glob.glob(f\"{img_folder}/**/*{extension}\", recursive=True))\n",
    "# TODO: 检查文件类型是否正确\n",
    "filename = random.choice(files)\n",
    "print(filename)\n",
    "\n",
    "img = Image.open(filename)\n",
    "img = tfs(img)\n",
    "img.shape"
   ]
  },
  {
   "cell_type": "code",
   "execution_count": 5,
   "id": "cd66f2e3-15e5-4529-b708-5c35eecb632b",
   "metadata": {},
   "outputs": [
    {
     "name": "stdout",
     "output_type": "stream",
     "text": [
      "tensor([[9.6385e-01, 2.7076e-02, 6.5903e-03, 1.3171e-03, 3.5879e-04]])\n",
      "tensor([[32, 50, 21, 38, 53]])\n"
     ]
    }
   ],
   "source": [
    "out = model.infer(img).softmax(-1)\n",
    "top_probs, top_indices = out.topk(k=5, sorted=True)\n",
    "print(top_probs)\n",
    "print(top_indices)"
   ]
  },
  {
   "cell_type": "code",
   "execution_count": 6,
   "id": "dd92b6bb-562c-4f4f-896f-30a026f353c6",
   "metadata": {},
   "outputs": [
    {
     "data": {
      "text/plain": [
       "'hospitalroom'"
      ]
     },
     "execution_count": 6,
     "metadata": {},
     "output_type": "execute_result"
    }
   ],
   "source": [
    "valid_folders[32]"
   ]
  }
 ],
 "metadata": {
  "kernelspec": {
   "display_name": "Python 3 (ipykernel)",
   "language": "python",
   "name": "python3"
  },
  "language_info": {
   "codemirror_mode": {
    "name": "ipython",
    "version": 3
   },
   "file_extension": ".py",
   "mimetype": "text/x-python",
   "name": "python",
   "nbconvert_exporter": "python",
   "pygments_lexer": "ipython3",
   "version": "3.9.13"
  }
 },
 "nbformat": 4,
 "nbformat_minor": 5
}
